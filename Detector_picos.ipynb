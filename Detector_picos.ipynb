{
 "cells": [
  {
   "cell_type": "code",
   "execution_count": 98,
   "metadata": {},
   "outputs": [],
   "source": [
    "import numpy as np\n",
    "import soundfile as sf\n",
    "import matplotlib.pyplot as plt\n",
    "import scipy.signal as signal"
   ]
  },
  {
   "cell_type": "code",
   "execution_count": 99,
   "metadata": {},
   "outputs": [
    {
     "name": "stdout",
     "output_type": "stream",
     "text": [
      "0.607513427734375\n",
      "0.4860107421875\n"
     ]
    }
   ],
   "source": [
    "audio,fs = sf.read('More_claps.wav')\n",
    "maximo=np.max(audio)\n",
    "print(maximo)\n",
    "umbral=maximo*0.8\n",
    "print(umbral)"
   ]
  },
  {
   "cell_type": "code",
   "execution_count": 100,
   "metadata": {},
   "outputs": [],
   "source": [
    "def extract_envelope_hilbert(audio):\n",
    "    analytic_signal = signal.hilbert(audio)    \n",
    "    envelope = np.abs(analytic_signal)\n",
    "    return envelope"
   ]
  },
  {
   "cell_type": "code",
   "execution_count": 103,
   "metadata": {},
   "outputs": [
    {
     "name": "stdout",
     "output_type": "stream",
     "text": [
      "Hay un nuevo sonido\n",
      "Hay un nuevo sonido\n",
      "Hay un nuevo sonido\n",
      "Hay un nuevo sonido\n",
      "Hay un nuevo sonido\n",
      "Hay un nuevo sonido\n",
      "Hay un nuevo sonido\n",
      "Hay un nuevo sonido\n",
      "Hay un nuevo sonido\n",
      "Hay un nuevo sonido\n",
      "Hay un nuevo sonido\n",
      "Hay un nuevo sonido\n",
      "Hay un nuevo sonido\n",
      "Hay un nuevo sonido\n",
      "Hay un nuevo sonido\n",
      "Hay un nuevo sonido\n",
      "Hay un nuevo sonido\n",
      "Hay un nuevo sonido\n",
      "Hay un nuevo sonido\n",
      "Hay un nuevo sonido\n",
      "Hay un nuevo sonido\n",
      "Hay un nuevo sonido\n",
      "Hay un nuevo sonido\n",
      "Hay un nuevo sonido\n",
      "Hay un nuevo sonido\n",
      "Hay un nuevo sonido\n",
      "Hay un nuevo sonido\n",
      "Hay un nuevo sonido\n",
      "Hay un nuevo sonido\n",
      "Hay un nuevo sonido\n",
      "Hay un nuevo sonido\n",
      "Hay un nuevo sonido\n",
      "Hay un nuevo sonido\n",
      "Hay un nuevo sonido\n",
      "Hay un nuevo sonido\n",
      "Hay un nuevo sonido\n",
      "Hay un nuevo sonido\n",
      "Hay un nuevo sonido\n",
      "Hay un nuevo sonido\n",
      "Hay un nuevo sonido\n",
      "Hay un nuevo sonido\n",
      "Hay un nuevo sonido\n",
      "Hay un nuevo sonido\n",
      "Hay un nuevo sonido\n",
      "Hay un nuevo sonido\n",
      "Hay un nuevo sonido\n",
      "Hay un nuevo sonido\n",
      "Hay un nuevo sonido\n",
      "Hay un nuevo sonido\n",
      "Hay un nuevo sonido\n",
      "Hay un nuevo sonido\n",
      "Hay un nuevo sonido\n",
      "Hay un nuevo sonido\n",
      "Hay un nuevo sonido\n",
      "Hay un nuevo sonido\n",
      "Hay un nuevo sonido\n",
      "Hay un nuevo sonido\n",
      "Hay un nuevo sonido\n",
      "Hay un nuevo sonido\n",
      "Hay un nuevo sonido\n",
      "Hay un nuevo sonido\n",
      "Hay un nuevo sonido\n",
      "Hay un nuevo sonido\n",
      "Hay un nuevo sonido\n",
      "Hay un nuevo sonido\n",
      "Hay un nuevo sonido\n",
      "Hay un nuevo sonido\n",
      "Hay un nuevo sonido\n",
      "Hay un nuevo sonido\n",
      "Hay un nuevo sonido\n",
      "Hay un nuevo sonido\n",
      "Hay un nuevo sonido\n",
      "Hay un nuevo sonido\n",
      "Hay un nuevo sonido\n",
      "Hay un nuevo sonido\n",
      "Hay un nuevo sonido\n",
      "Hay un nuevo sonido\n",
      "Hay un nuevo sonido\n",
      "Hay un nuevo sonido\n",
      "Hay un nuevo sonido\n",
      "Hay un nuevo sonido\n",
      "Hay un nuevo sonido\n",
      "Hay un nuevo sonido\n",
      "Hay un nuevo sonido\n",
      "Hay un nuevo sonido\n",
      "Hay un nuevo sonido\n",
      "Hay un nuevo sonido\n",
      "Hay un nuevo sonido\n",
      "Hay un nuevo sonido\n",
      "Hay un nuevo sonido\n",
      "Hay un nuevo sonido\n",
      "Hay un nuevo sonido\n",
      "Hay un nuevo sonido\n",
      "Hay un nuevo sonido\n",
      "Hay un nuevo sonido\n",
      "Hay un nuevo sonido\n",
      "Hay un nuevo sonido\n",
      "Hay un nuevo sonido\n",
      "Hay un nuevo sonido\n",
      "Hay un nuevo sonido\n"
     ]
    }
   ],
   "source": [
    "ventana=[0]*len(audio)\n",
    "tamano_ventana = 100\n",
    "for i in range(tamano_ventana):\n",
    "    ventana[i]=1\n",
    "\n",
    "max_locales=[]\n",
    "for i in range(1000):\n",
    "    audio_vent = ventana*audio\n",
    "\n",
    "    ventana[tamano_ventana+i]=1\n",
    "    ventana[i]=0\n",
    "    \n",
    "    maximo=np.max(audio)    \n",
    "    max_locales.append(max(audio_vent))\n",
    "    if maximo==max_locales[i]:\n",
    "        print(\"Hay un nuevo sonido\")"
   ]
  }
 ],
 "metadata": {
  "kernelspec": {
   "display_name": "Python 3",
   "language": "python",
   "name": "python3"
  },
  "language_info": {
   "codemirror_mode": {
    "name": "ipython",
    "version": 3
   },
   "file_extension": ".py",
   "mimetype": "text/x-python",
   "name": "python",
   "nbconvert_exporter": "python",
   "pygments_lexer": "ipython3",
   "version": "3.10.11"
  },
  "orig_nbformat": 4
 },
 "nbformat": 4,
 "nbformat_minor": 2
}
