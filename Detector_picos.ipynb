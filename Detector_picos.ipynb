{
 "cells": [
  {
   "cell_type": "code",
   "execution_count": 85,
   "metadata": {},
   "outputs": [],
   "source": [
    "import numpy as np\n",
    "import soundfile as sf\n",
    "import matplotlib.pyplot as plt\n",
    "import scipy.signal as signal"
   ]
  },
  {
   "cell_type": "code",
   "execution_count": 86,
   "metadata": {},
   "outputs": [],
   "source": [
    "audio,fs = sf.read('clap.wav')"
   ]
  },
  {
   "cell_type": "code",
   "execution_count": null,
   "metadata": {},
   "outputs": [],
   "source": [
    "# ventana=[0]*len(audio)\n",
    "# tamano_ventana = 10\n",
    "# for i in range(tamano_ventana):\n",
    "#     ventana[i]=1\n",
    "\n",
    "# for i in range(100):\n",
    "#     ventana[tamano_ventana+i]=1\n",
    "#     ventana[i]=0\n",
    "#     print(ventana)"
   ]
  },
  {
   "cell_type": "code",
   "execution_count": null,
   "metadata": {},
   "outputs": [],
   "source": [
    "def extract_envelope_hilbert(audio):\n",
    "    analytic_signal = signal.hilbert(audio)    \n",
    "    envelope = np.abs(analytic_signal)\n",
    "    return envelope"
   ]
  },
  {
   "cell_type": "code",
   "execution_count": 78,
   "metadata": {},
   "outputs": [
    {
     "name": "stdout",
     "output_type": "stream",
     "text": [
      "Hay un nuevo sonido\n",
      "Hay un nuevo sonido\n",
      "Hay un nuevo sonido\n",
      "Hay un nuevo sonido\n",
      "Hay un nuevo sonido\n",
      "Hay un nuevo sonido\n",
      "Hay un nuevo sonido\n",
      "Hay un nuevo sonido\n",
      "Hay un nuevo sonido\n",
      "Hay un nuevo sonido\n",
      "Hay un nuevo sonido\n",
      "Hay un nuevo sonido\n",
      "Hay un nuevo sonido\n",
      "Hay un nuevo sonido\n",
      "Hay un nuevo sonido\n",
      "Hay un nuevo sonido\n",
      "Hay un nuevo sonido\n",
      "Hay un nuevo sonido\n",
      "Hay un nuevo sonido\n",
      "Hay un nuevo sonido\n",
      "Hay un nuevo sonido\n",
      "Hay un nuevo sonido\n",
      "Hay un nuevo sonido\n",
      "Hay un nuevo sonido\n",
      "Hay un nuevo sonido\n",
      "Hay un nuevo sonido\n",
      "Hay un nuevo sonido\n"
     ]
    }
   ],
   "source": [
    "ventana=[0]*len(audio)\n",
    "tamano_ventana = 100\n",
    "for i in range(tamano_ventana):\n",
    "    ventana[i]=1\n",
    "\n",
    "max_locales=[]\n",
    "for i in range(1000):\n",
    "    audio_vent = ventana*audio\n",
    "    ventana[tamano_ventana+i]=1\n",
    "    ventana[i]=0\n",
    "    max_locales.append(max(audio_vent))\n",
    "    umbral=np.max(audio)\n",
    "    if (max_locales[i]-max_locales[i-1])>0:\n",
    "        print(\"Hay un nuevo sonido\")"
   ]
  },
  {
   "cell_type": "code",
   "execution_count": 28,
   "metadata": {},
   "outputs": [
    {
     "name": "stdout",
     "output_type": "stream",
     "text": [
      "7888\n"
     ]
    }
   ],
   "source": [
    "ventana=np.ones(len(audio))\n",
    "print(len(ventana))"
   ]
  }
 ],
 "metadata": {
  "kernelspec": {
   "display_name": "Python 3",
   "language": "python",
   "name": "python3"
  },
  "language_info": {
   "codemirror_mode": {
    "name": "ipython",
    "version": 3
   },
   "file_extension": ".py",
   "mimetype": "text/x-python",
   "name": "python",
   "nbconvert_exporter": "python",
   "pygments_lexer": "ipython3",
   "version": "3.10.11"
  },
  "orig_nbformat": 4
 },
 "nbformat": 4,
 "nbformat_minor": 2
}
