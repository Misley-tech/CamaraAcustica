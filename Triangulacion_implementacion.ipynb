{
  "cells": [
    {
      "cell_type": "code",
      "execution_count": null,
      "metadata": {
        "id": "3BRyytvrkqCq"
      },
      "outputs": [],
      "source": [
        "import soundfile as sf\n",
        "import numpy as np\n",
        "import matplotlib.pyplot as plt"
      ]
    },
    {
      "cell_type": "code",
      "execution_count": null,
      "metadata": {
        "id": "cEK44H3PkqCs"
      },
      "outputs": [],
      "source": [
        "c=340\n",
        "b = 10e-2\n",
        "d2=0.50\n",
        "d1=0.42\n",
        "Delta_t=(d2-d1)/c"
      ]
    },
    {
      "cell_type": "code",
      "execution_count": null,
      "metadata": {
        "id": "Mz6hMPJ_kqCt"
      },
      "outputs": [],
      "source": [
        "def delay(audio1_path,Delta_t):\n",
        "    data1,fs=sf.read(audio1_path)\n",
        "    zero_pad=np.zeros(int(round(Delta_t*fs,0)))\n",
        "    data2=np.concatenate((zero_pad,data1))\n",
        "    sf.write('clap_delay.wav',data2,fs)\n",
        "\n",
        "#audio1_path = 'C:/Users/Asus/Desktop/programitas/Triangulacion/clap.wav'\n",
        "audio1_path = 'clap.wav'\n",
        "delay(audio1_path,Delta_t)"
      ]
    },
    {
      "cell_type": "markdown",
      "metadata": {
        "id": "KjoKMUE8kqCt"
      },
      "source": [
        "# Calculo del angulo"
      ]
    },
    {
      "cell_type": "markdown",
      "source": [
        "Todo el error en la precisión del angulo esta asociado al redondeo de tau_muestras/fs"
      ],
      "metadata": {
        "id": "loXvmn7NmbJS"
      }
    },
    {
      "cell_type": "code",
      "execution_count": null,
      "metadata": {
        "id": "oUxru5KRkqCu",
        "outputId": "a8790554-7e0c-4bfd-d9dc-4e3fdaa83506",
        "colab": {
          "base_uri": "https://localhost:8080/"
        }
      },
      "outputs": [
        {
          "output_type": "stream",
          "name": "stdout",
          "text": [
            "50.44152900974678\n"
          ]
        }
      ],
      "source": [
        "audio1_path = 'clap.wav'\n",
        "audio2_path = 'clap_delay.wav'\n",
        "\n",
        "data1,fs = sf.read(audio1_path)\n",
        "data2,fs = sf.read(audio2_path)\n",
        "\n",
        "max_data1=np.argmax(data1)\n",
        "max_data2=np.argmax(data2)\n",
        "\n",
        "tau_muestras = max_data2 - max_data1\n",
        "tau = tau_muestras/fs\n",
        "\n",
        "arg =(tau*c)/b\n",
        "if arg>1: arg=1\n",
        "theta = (180/np.pi)*np.arcsin(arg)\n",
        "print(theta)"
      ]
    },
    {
      "cell_type": "code",
      "source": [
        "import librosa\n",
        "import numpy as np\n",
        "\n",
        "\n",
        "def find_max_abs_value(audio_data, sr, interval_ms=500):\n",
        "    interval_samples = int((sr * interval_ms) / 1000)  # Convert interval from ms to samples\n",
        "    num_intervals = len(audio_data) // interval_samples\n",
        "\n",
        "    max_values = []\n",
        "    max_times = []\n",
        "    relative_times = []  # To store the relative times for each interval\n",
        "\n",
        "    for i in range(num_intervals):\n",
        "        start_sample = i * interval_samples\n",
        "        end_sample = (i + 1) * interval_samples\n",
        "        interval_data = audio_data[start_sample:end_sample]\n",
        "\n",
        "        max_value = np.max(np.abs(interval_data))\n",
        "        max_sample = np.argmax(np.abs(interval_data))\n",
        "        max_time = librosa.samples_to_time(max_sample + start_sample, sr=sr)\n",
        "\n",
        "        max_values.append(max_value)\n",
        "        max_times.append(max_time)\n",
        "        relative_times.append(max_time - (interval_ms / 1000) * i)\n",
        "\n",
        "    return max_values, max_times, relative_times\n",
        "\n",
        "def calculate_theta(differences,distance):\n",
        "    c = 345\n",
        "    theta_list = [(180 / np.pi) * np.arcsin((diff*c)) for diff in differences]\n",
        "    return theta_list\n",
        "\n",
        "def main():\n",
        "    # Replace 'audio_file_1.wav' and 'audio_file_2.wav' with the paths to your audio files\n",
        "    audio_file_1 = 'Clap 4.5 0 1.wav'\n",
        "    audio_file_2 = 'Clap 4.5 0 2.wav'\n",
        "\n",
        "    audio_data_1, sr_1 = librosa.load(audio_file_1, sr=None)\n",
        "    audio_data_2, sr_2 = librosa.load(audio_file_2, sr=None)\n",
        "\n",
        "    max_values_1, max_times_1, relative_times_1 = find_max_abs_value(audio_data_1, sr_1)\n",
        "    max_values_2, max_times_2, relative_times_2 = find_max_abs_value(audio_data_2, sr_2)\n",
        "\n",
        "    # Calculate the time differences between the maxima of each interval for audio 1 and audio 2\n",
        "    time_differences = [abs(max_times_1[i] - max_times_2[i]) for i in range(min(len(max_times_1), len(max_times_2)))]\n",
        "\n",
        "    # Calculate theta using the time differences\n",
        "    distance = 0.045\n",
        "    theta_list = calculate_theta(time_differences,distance)\n",
        "\n",
        "    # Print the results for audio 1\n",
        "    print(\"Audio 1:\")\n",
        "    for i in range(len(max_values_1)):\n",
        "        print(f\"Interval {i+1}: Max value = {max_values_1[i]}, Relative Time = {relative_times_1[i]} seconds\")\n",
        "\n",
        "    # Print the results for audio 2\n",
        "    print(\"\\nAudio 2:\")\n",
        "    for i in range(len(max_values_2)):\n",
        "        print(f\"Interval {i+1}: Max value = {max_values_2[i]}, Relative Time = {relative_times_2[i]} seconds\")\n",
        "\n",
        "    # Print the time differences between the maxima of each interval for audio 1 and audio 2\n",
        "    print(\"\\nTime differences between maxima of each interval for audio 1 and audio 2:\")\n",
        "    for i in range(len(time_differences)):\n",
        "        print(f\"Interval {i+1}: Time difference = {time_differences[i]} seconds\")\n",
        "\n",
        "    # Print the theta list calculated from the time differences\n",
        "    print(\"\\nTheta list calculated from time differences:\")\n",
        "    for i in range(len(theta_list)):\n",
        "        print(f\"Interval {i+1}: Theta = {theta_list[i]} degrees\")\n",
        "\n",
        "    theta_mean = np.mean(theta_list)\n",
        "    theta_std = np.std(theta_list)\n",
        "\n",
        "    print(\"\\nMean of theta:\", theta_mean, \"degrees\")\n",
        "    print(\"Standard deviation of theta:\", theta_std, \"degrees\")\n",
        "\n",
        "if __name__ == \"__main__\":\n",
        "    main()"
      ],
      "metadata": {
        "id": "AU3QKWc9Vj58",
        "colab": {
          "base_uri": "https://localhost:8080/"
        },
        "outputId": "30a935de-fb63-40d0-959f-50c6bd01fc94"
      },
      "execution_count": null,
      "outputs": [
        {
          "output_type": "stream",
          "name": "stdout",
          "text": [
            "Audio 1:\n",
            "Interval 1: Max value = 0.0, Relative Time = 0.0 seconds\n",
            "Interval 2: Max value = 0.0, Relative Time = 0.0 seconds\n",
            "Interval 3: Max value = 0.0, Relative Time = 0.0 seconds\n",
            "Interval 4: Max value = 0.0, Relative Time = 0.0 seconds\n",
            "Interval 5: Max value = 0.0, Relative Time = 0.0 seconds\n",
            "\n",
            "Audio 2:\n",
            "Interval 1: Max value = 0.0, Relative Time = 0.0 seconds\n",
            "Interval 2: Max value = 0.0, Relative Time = 0.0 seconds\n",
            "Interval 3: Max value = 0.0, Relative Time = 0.0 seconds\n",
            "Interval 4: Max value = 0.0, Relative Time = 0.0 seconds\n",
            "Interval 5: Max value = 0.0, Relative Time = 0.0 seconds\n",
            "\n",
            "Time differences between maxima of each interval for audio 1 and audio 2:\n",
            "Interval 1: Time difference = 0.0 seconds\n",
            "Interval 2: Time difference = 0.0 seconds\n",
            "Interval 3: Time difference = 0.0 seconds\n",
            "Interval 4: Time difference = 0.0 seconds\n",
            "Interval 5: Time difference = 0.0 seconds\n",
            "\n",
            "Theta list calculated from time differences:\n",
            "Interval 1: Theta = 0.0 degrees\n",
            "Interval 2: Theta = 0.0 degrees\n",
            "Interval 3: Theta = 0.0 degrees\n",
            "Interval 4: Theta = 0.0 degrees\n",
            "Interval 5: Theta = 0.0 degrees\n",
            "\n",
            "Mean of theta: 0.0 degrees\n",
            "Standard deviation of theta: 0.0 degrees\n"
          ]
        }
      ]
    },
    {
      "cell_type": "code",
      "source": [
        "\n"
      ],
      "metadata": {
        "id": "M9ST6Jdr3czW"
      },
      "execution_count": null,
      "outputs": []
    },
    {
      "cell_type": "code",
      "source": [],
      "metadata": {
        "id": "x19HZ7PnhZu3"
      },
      "execution_count": null,
      "outputs": []
    }
  ],
  "metadata": {
    "kernelspec": {
      "display_name": "Python 3",
      "language": "python",
      "name": "python3"
    },
    "language_info": {
      "codemirror_mode": {
        "name": "ipython",
        "version": 3
      },
      "file_extension": ".py",
      "mimetype": "text/x-python",
      "name": "python",
      "nbconvert_exporter": "python",
      "pygments_lexer": "ipython3",
      "version": "3.10.11"
    },
    "orig_nbformat": 4,
    "colab": {
      "provenance": []
    }
  },
  "nbformat": 4,
  "nbformat_minor": 0
}